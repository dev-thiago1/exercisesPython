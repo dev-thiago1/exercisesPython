{
  "nbformat": 4,
  "nbformat_minor": 0,
  "metadata": {
    "colab": {
      "name": "exerciciosPython.ipynb",
      "provenance": [],
      "collapsed_sections": [],
      "authorship_tag": "ABX9TyM9jQHwFjNI0ZVvTdc71jfc",
      "include_colab_link": true
    },
    "kernelspec": {
      "display_name": "Python 3",
      "name": "python3"
    }
  },
  "cells": [
    {
      "cell_type": "markdown",
      "metadata": {
        "id": "view-in-github",
        "colab_type": "text"
      },
      "source": [
        "<a href=\"https://colab.research.google.com/github/dev-thiago1/exercisesPython/blob/main/exerciciosPython.ipynb\" target=\"_parent\"><img src=\"https://colab.research.google.com/assets/colab-badge.svg\" alt=\"Open In Colab\"/></a>"
      ]
    },
    {
      "cell_type": "code",
      "metadata": {
        "id": "6IrXfx5_Rubk"
      },
      "source": [
        "import math\n",
        "num = int(input(\"Digite um número \"))\n",
        "raiz = math.sqrt(num)\n",
        "print(\"\\n A raiz de {} é: \\n {:.2f} \".format(num, raiz))"
      ],
      "execution_count": null,
      "outputs": []
    },
    {
      "cell_type": "code",
      "metadata": {
        "id": "bIQ_qLSgKMyr"
      },
      "source": [
        ""
      ],
      "execution_count": null,
      "outputs": []
    },
    {
      "cell_type": "code",
      "metadata": {
        "id": "IPxORsgReRQk"
      },
      "source": [
        "import random\n",
        "alunos1 = input(\"Digite o nome do aluno \")\n",
        "alunos2 = input(\"Digite o nome do aluno \")\n",
        "alunos3 = input(\"Digite o nome do aluno \")\n",
        "alunos4 = input(\"Digite o nome do aluno \")\n",
        "num = [alunos1,alunos2,alunos3,alunos4]\n",
        "random.shuffle(num)\n",
        "print(num)"
      ],
      "execution_count": null,
      "outputs": []
    },
    {
      "cell_type": "code",
      "metadata": {
        "id": "3LJ7WjTTxaFv"
      },
      "source": [
        ""
      ],
      "execution_count": null,
      "outputs": []
    },
    {
      "cell_type": "code",
      "metadata": {
        "id": "-3FKPpUffgYz"
      },
      "source": [
        "import math \n",
        "num = float(input(\"Digite um número: \\n\"))\n",
        "num1 = math.trunc(num)\n",
        "print(num1)"
      ],
      "execution_count": null,
      "outputs": []
    },
    {
      "cell_type": "code",
      "metadata": {
        "id": "8py7hg8EC0V8"
      },
      "source": [
        "import math\n",
        "\n",
        "\n",
        "co = float(input(\"Comprimento do cateto oposto: \\n\"))\n",
        "ca = float(input(\"Comprimento do cateto adjacente: \\n\"))\n",
        "hi = (ca ** 2) + (co ** 2) ** 1/2\n",
        "print(hi)"
      ],
      "execution_count": null,
      "outputs": []
    },
    {
      "cell_type": "code",
      "metadata": {
        "id": "-5vLII8RL19D"
      },
      "source": [
        "import math\n",
        "an = float(input(\"Digite o ângulo: \\n\"))\n",
        "seno = math.sin(math.radians(an))\n",
        "cos = math.cos(math.radians(an))\n",
        "tag = math.tan(math.radians(an))\n",
        "print(\"SENO: {:.2f} COS: {:.2f} TAN: {:.2f}\".format(seno, cos, tag))"
      ],
      "execution_count": null,
      "outputs": []
    },
    {
      "cell_type": "code",
      "metadata": {
        "id": "wOH8JTYgxcIp"
      },
      "source": [
        "frase = input(\"Digite um nome \\n\")\n",
        "print(frase.upper())\n",
        "print(frase.lower())\n",
        "fraseS = frase.split()\n",
        "print(len(fraseS[0]))\n",
        "fraseJ = ''.join(fraseS)\n",
        "print(len(fraseJ))"
      ],
      "execution_count": null,
      "outputs": []
    },
    {
      "cell_type": "code",
      "metadata": {
        "id": "dNG6S0PBpfve"
      },
      "source": [
        "num = int(input(\"Digite um número de 0 a 9999 \\n\"))\n",
        "n = str(num)\n",
        "print(\"UNIDADE: {}\\n DEZENA: {}\\n CENTENA: {}\\n MILHAR: {}\\n\".format(n[3],n[2],n[1],n[0]))"
      ],
      "execution_count": null,
      "outputs": []
    },
    {
      "cell_type": "code",
      "metadata": {
        "id": "GH2XPdFeDJPL"
      },
      "source": [
        "cidade = input(\"Digite o nome da sua cidade: \\n\").strip().upper()\n",
        "print(\"Analisando a cidade {}\".format(cidade))\n",
        "print(\"SANTO\" in cidade)"
      ],
      "execution_count": null,
      "outputs": []
    },
    {
      "cell_type": "code",
      "metadata": {
        "id": "wcuJPydk5UT6"
      },
      "source": [
        "nome = input(\"Digite o seu nome: \\n\").strip().upper()\n",
        "print(\"Analisando o nome {}\".format(nome))\n",
        "print(\"SILVA\" in nome)"
      ],
      "execution_count": null,
      "outputs": []
    },
    {
      "cell_type": "code",
      "metadata": {
        "id": "FMzRW5xOCCKN"
      },
      "source": [
        "nome = input(\"Digite o seu nome: \\n\").strip().split()\n",
        "print(\"Nome: {} \\nSobrenome: {} \\nUltimo nome: {} \\n\".format(nome[0],nome[1],nome[3]))"
      ],
      "execution_count": null,
      "outputs": []
    },
    {
      "cell_type": "code",
      "metadata": {
        "id": "RyiIYYSCJguB"
      },
      "source": [
        "frase = input(\"Digite uma frase \").strip()\n",
        "print(\"A letra A aparece {} vezes na frase\".format(frase.count(\"a\")))\n",
        "print(\"O primeiro A é encontrado na posição {}\".format(frase.find(\"a\")))\n",
        "print(\"O primeiro A é encontrado na posição {}\".format(frase.rfind(\"a\")))"
      ],
      "execution_count": null,
      "outputs": []
    },
    {
      "cell_type": "code",
      "metadata": {
        "id": "Kkao4ipbpc71"
      },
      "source": [
        "import random\n",
        "num = int(input(\"Digite um numero de 0 a 5: \\n\"))\n",
        "num2 = random.randint(0,5)\n",
        "if(num == num2):\n",
        "  print(\"Você achou o número!\")\n",
        "else:\n",
        "    print(\"Você errou o número!\")\n",
        "print(\"O número certo é: {}\".format(num2))\n"
      ],
      "execution_count": null,
      "outputs": []
    },
    {
      "cell_type": "code",
      "metadata": {
        "id": "In233yYdBXqQ"
      },
      "source": [
        "vel = int(input(\"Velocidade do carro em km\\h: \\n\"))\n",
        "if(vel > 80):\n",
        "  multa = (vel - 80) * 7\n",
        "  print(\"Você foi multado! \\nValor da multa: R${}\".format(multa))\n",
        "\n",
        "else:\n",
        "  print(\"Tenha um bom dia! dirija com segurança\")  "
      ],
      "execution_count": null,
      "outputs": []
    },
    {
      "cell_type": "code",
      "metadata": {
        "id": "ZQGLo5J0FQzj"
      },
      "source": [
        "num = int(input(\"Digite um número: \"))\n",
        "if(num % 2 == 0):\n",
        "  print(\"Numero par\")\n",
        "else:\n",
        "  print(\"Numero impar\")"
      ],
      "execution_count": null,
      "outputs": []
    },
    {
      "cell_type": "code",
      "metadata": {
        "id": "c1Y1C94_GRL7"
      },
      "source": [
        "km = float(input(\"Qual a distancia da sua viagem em KM?\\n\"))\n",
        "print(\"Você está prestes a iniciar uma viagem de {:.2f}\".format(km))\n",
        "\n",
        "if(km <= 200):\n",
        "  km1 = 0.50 * km\n",
        "  print(\"O preço da viagem será: R${:.2f}\".format(km1))\n",
        "else:\n",
        "  km2 = 0.45 * km\n",
        "  print(\"O preço da viagem será: R${:.2f}\".format(km2))\n"
      ],
      "execution_count": null,
      "outputs": []
    },
    {
      "cell_type": "code",
      "metadata": {
        "id": "35ECoPeMyFzr"
      },
      "source": [
        "import datetime\n",
        "ano = int(input(\"Digite um ano.\\nDigite 0 para o ano atual \"))\n",
        "if(ano == 0):\n",
        "  ano = datetime.datetime.today().year\n",
        "\n",
        "if(ano % 4 == 0):\n",
        "  print(\"O ano é bissexto\")\n",
        "else:\n",
        "  print(\"O ano não é bissexto\")\n",
        "print(ano)"
      ],
      "execution_count": null,
      "outputs": []
    },
    {
      "cell_type": "code",
      "metadata": {
        "id": "PP5ocNP0LSBK"
      },
      "source": [
        "num = int(input(\"Digite o primeiro número: \"))\n",
        "num1 = int(input(\"Digite o segundo número: \"))\n",
        "num2 = int(input(\"Digite o terceiro número: \"))\n",
        "\n",
        "if(num  < num1 and num < num2):\n",
        "  print(\"O {} é o menor\".format(num))\n",
        "elif(num1 < num and num1 < num2):\n",
        "    print(\"O {} é o menor\".format(num1))\n",
        "else:\n",
        "    print(\"O {} é o menor\".format(num2))\n",
        "\n",
        "if(num > num1 and num > num2):\n",
        "   print(\"O {} é o maior\".format(num))\n",
        "elif(num1 > num and num1 > num2):\n",
        "    print(\"O {} é o maior\".format(num1))\n",
        "else:\n",
        "    print(\"O {} é o maior\".format(num2))\n"
      ],
      "execution_count": null,
      "outputs": []
    },
    {
      "cell_type": "code",
      "metadata": {
        "id": "MKgCbHEsreKh"
      },
      "source": [
        "sal = float(input(\"Escreva seu salário em R$:\"))\n",
        "if(sal <= 1250.00):\n",
        "  sal1 = sal + (sal * 0.15)\n",
        "  print(\"O aumento do seu salário foi de {:.2f} para {:.2f}\".format(sal,sal1))\n",
        "else:\n",
        "  sal2 = sal + (sal * 0.10)\n",
        "  print(\"O aumento do seu salário foi de {:.2f} para {:.2f}\".format(sal,sal2))"
      ],
      "execution_count": null,
      "outputs": []
    },
    {
      "cell_type": "code",
      "metadata": {
        "id": "4-ROMJ-355Qb"
      },
      "source": [
        "a = float(input(\"Digite o primeiro segmento:\\n\"))\n",
        "b = float(input(\"Digite o segundo segmento:\\n\"))\n",
        "c = float(input(\"Digite o terceiro segmento:\\n\"))\n",
        "if(a + b > c):\n",
        "  print(\"\\033[1;35m\t da pra formar um\\033[m triangulo\")\n",
        "else:\n",
        "  print(\"nao da pra formar um triangulo\")\n"
      ],
      "execution_count": null,
      "outputs": []
    },
    {
      "cell_type": "code",
      "metadata": {
        "id": "iFrg7jN5rGR8"
      },
      "source": [
        "casa = float(input(\"Digite o valor da casa: R$ \"))\n",
        "salario = float(input(\"Digite o seu salário: R$ \"))\n",
        "ano = int(input(\"Quantos anos de financiamento? \"))\n",
        "parcela = casa / (ano * 12)\n",
        "salario1 = salario * 0.30\n",
        "print(\"Para pagar uma casa de: {} em: {} anos a prestação será de: {:.2f}\".format(casa,ano,parcela))\n",
        "if(parcela >= salario1):\n",
        "  print(\"Empréstimo negado\")\n",
        "else:\n",
        "  print(\"Empréstimo aprovado\")"
      ],
      "execution_count": null,
      "outputs": []
    },
    {
      "cell_type": "code",
      "metadata": {
        "id": "VSEj3x234MnA"
      },
      "source": [
        "num = int(input(\"Digite um número inteiro:\"))\n",
        "escolha = int(input(\"escolha qual será a base de conversão: 1 para binário, 2 para octal e 3 para hexadecimal.\"))\n"
      ],
      "execution_count": null,
      "outputs": []
    },
    {
      "cell_type": "code",
      "metadata": {
        "id": "Br016xRT4A97"
      },
      "source": [
        "import datetime\n",
        "ano = int(input(\"Digite o ano do seu nascimento: \"))\n",
        "anoAtual = datetime.datetime.today().year\n",
        "idade = anoAtual - ano\n",
        "anoAlistamento = ano + 18\n",
        "anoD = anoAtual - anoAlistamento\n",
        "anoDe = anoAlistamento - anoAtual\n",
        "print(\"Quem nasceu em {} tem {} anos em {}\".format(ano, idade, anoAtual))\n",
        "if(idade == 18):\n",
        "  print(\"Você tem que se alistar imediatamente\")\n",
        "elif(idade > 18):\n",
        "  print(\"Você deveria ter se alistado há {} anos.\".format(anoD))\n",
        "  print(\"Seu alistamento foi em {}.\".format(anoAlistamento))\n",
        "elif(idade < 18):\n",
        "  print(\"Você deverá se alistar em {} anos.\".format(anoDe))\n",
        "  print(\"Seu alistamento será em {}.\".format(anoAlistamento))\n",
        "\n"
      ],
      "execution_count": null,
      "outputs": []
    },
    {
      "cell_type": "code",
      "metadata": {
        "id": "QQiw7fB-Zl7r"
      },
      "source": [
        "notaA = float(input(\"Digite a primeira nota: \"))\n",
        "notaB = float(input(\"Digite a segunda nota: \"))\n",
        "media = (notaA + notaB) / 2\n",
        "print(\"Tirando a nota {} e a nota {} a média é {}\".format(notaA,notaB,media))\n",
        "if(media < 5.0):\n",
        "  print(\"REPROVADO!\")\n",
        "elif(media >= 5.0 and media <= 6.9):\n",
        "  print(\"RECUPERAÇÃO!\")\n",
        "else:\n",
        "  print(\"APROVADO!\")"
      ],
      "execution_count": null,
      "outputs": []
    },
    {
      "cell_type": "code",
      "metadata": {
        "id": "dOYJzWz_dptJ"
      },
      "source": [
        "import datetime\n",
        "ano = int(input(\"Digite seu ano de nascimento: \"))\n",
        "anoAtual = datetime.datetime.today().year\n",
        "idade = anoAtual - ano\n",
        "print(\"Nascendo no ano {} a sua idade é {}.\".format(ano, idade))\n",
        "if(idade <= 9):\n",
        "  print(\"MIRIM\")\n",
        "elif(idade <= 14):\n",
        "  print(\"INFANTIL\")\n",
        "elif(idade <= 19):\n",
        "  print(\"JÚNIOR\")\n",
        "elif(idade <= 25):\n",
        "  print(\"SÊNIOR\")\n",
        "else:\n",
        "  print(\"MASTER\")\n"
      ],
      "execution_count": null,
      "outputs": []
    },
    {
      "cell_type": "code",
      "metadata": {
        "id": "I8gTzVWWh9j6"
      },
      "source": [
        "peso = float(input(\"Digite seu peso em KG: \"))\n",
        "altura = float(input(\"Digite sua altura: \"))\n",
        "imc = peso / (altura ** 2) \n",
        "print(\"O seu peso é {} sua altura é {} e seu IMC é {:.2f}.\".format(peso,altura,imc))\n",
        "if(imc <= 18.5):\n",
        "  print(\"Abaixo do peso\")\n",
        "elif(imc <= 25):\n",
        "  print(\"Peso ideal\")\n",
        "elif(imc <= 30):\n",
        "  print(\"Sobrepeso\")\n",
        "elif(imc <= 40):\n",
        "  print(\"Obesidade\")\n",
        "else:\n",
        "  print(\"Obesidade mórbida\")\n",
        "\n"
      ],
      "execution_count": null,
      "outputs": []
    },
    {
      "cell_type": "code",
      "metadata": {
        "id": "YT-_GWdRtpuI"
      },
      "source": [
        "compras = float(input(\"Digite o preço das compras: R$\"))\n",
        "num = int(input(\"FORMAS DE PAGAMENTO\\n[ 1 ] à vista dinheiro/cheque\\n[ 2 ] à vista cartão\\n[ 3 ] 2x no cartão\\n[ 4 ] 3x ou mais no cartão\\nQual é a opção? \"))\n",
        "if(num == 1):\n",
        "  compras1 = compras - (compras * 0.10)\n",
        "  print(\"Sua compra vai custar {}\".format(compras1))\n",
        "elif(num == 2):\n",
        "  compras2 = compras - (compras * 0.05)\n",
        "  print(\"Sua compra vai custar {}\".format(compras2))\n",
        "elif(num == 3):\n",
        "  parcela = compras / 2\n",
        "  print(\"Sua compra será parcelada em 2x de {}.\".format(parcela))\n",
        "elif(num == 4):\n",
        "  parcelas = int(input(\"Quantas parcelas? \"))\n",
        "  compras4 = compras + (compras * 0.20)\n",
        "  compras5 = compras4 / parcelas\n",
        "  print(\"Sua compra será parcelada em {}x de R${} COM JUROS\".format(parcelas,compras5))\n",
        "  print(\"Sua compra de R${} vai custar R${} no final.\".format(compras, compras4))\n",
        "else:\n",
        "  print(\"Digite uma opção correta!\")"
      ],
      "execution_count": null,
      "outputs": []
    },
    {
      "cell_type": "code",
      "metadata": {
        "id": "qdlVhYTNm82r"
      },
      "source": [
        "import random\n",
        "escolha = int(input(\"Suas opções:\\n[ 0 ]PEDRA\\n[ 1 ]PAPEL\\n[ 2 ]Tesoura\\nQual é sua escolha? \"))\n",
        "computador = (\"Pedra\",\"Papel\",\"Tesoura\")\n",
        "if(escolha == 0):\n",
        "  print(\"Você escolheu Pedra\")\n",
        "elif(escolha == 1):\n",
        "  print(\"Você escolheu Papel\")\n",
        "elif(escolha == 2):\n",
        "  print(\"Você escolheu Tesoura\")\n",
        "else:\n",
        "  print(\"Escolha uma das opções acima\")"
      ],
      "execution_count": null,
      "outputs": []
    },
    {
      "cell_type": "code",
      "metadata": {
        "id": "4xn2O3s0dcgR",
        "colab": {
          "base_uri": "https://localhost:8080/"
        },
        "outputId": "d608f448-e65e-4573-8ae7-9ff10fef3a15"
      },
      "source": [
        "from  time import sleep \n",
        "for a in range(10,-1,-1):\n",
        "  sleep(1)\n",
        "  print(a)\n",
        "print(\"Fim do tempo!\") "
      ],
      "execution_count": null,
      "outputs": [
        {
          "output_type": "stream",
          "text": [
            "10\n",
            "9\n",
            "8\n",
            "7\n",
            "6\n",
            "5\n",
            "4\n",
            "3\n",
            "2\n",
            "1\n",
            "0\n",
            "Fim do tempo!\n"
          ],
          "name": "stdout"
        }
      ]
    },
    {
      "cell_type": "code",
      "metadata": {
        "id": "SR-k8-0Uqjhi",
        "colab": {
          "base_uri": "https://localhost:8080/"
        },
        "outputId": "88f80633-8ca5-4bf9-c37b-10b1740356da"
      },
      "source": [
        "i = 0\n",
        "cont = 0\n",
        "for a in range(1, 501,2):\n",
        "  if a % 3 == 0:\n",
        "   i += a\n",
        "   cont += 1\n",
        "print(i)\n",
        "print(cont)\n",
        "   \n"
      ],
      "execution_count": null,
      "outputs": [
        {
          "output_type": "stream",
          "text": [
            "20667\n",
            "83\n"
          ],
          "name": "stdout"
        }
      ]
    },
    {
      "cell_type": "code",
      "metadata": {
        "id": "JLqwo0HQsxPf"
      },
      "source": [
        "num = int(input(\"Digite um número \"))\n",
        "for a in range(1,11):\n",
        "  total = num * a\n",
        "  print(\"{} x {} = {}\".format(a,num,total))"
      ],
      "execution_count": null,
      "outputs": []
    },
    {
      "cell_type": "code",
      "metadata": {
        "id": "VdOQeRgJeHFX"
      },
      "source": [
        "total = 0\n",
        "for a in range(1,7):\n",
        "  num = int(input(\"Digite um numero \"))\n",
        "  if(num % 2 ==0):\n",
        "    total += num\n",
        "print(total)    \n",
        "\n"
      ],
      "execution_count": null,
      "outputs": []
    },
    {
      "cell_type": "code",
      "metadata": {
        "id": "f2_kuClCerq0"
      },
      "source": [
        "print(\"10 TERMOS DE UMA PA\")\n",
        "pa = int(input(\"Primeiro termo: \"))\n",
        "razao = int(input(\"Razão: \"))\n",
        "limite = pa + 10  * razao\n",
        "for a in range(pa, limite, razao):\n",
        "  print(a, end=\" -> \")\n",
        "print(\"ACABOU\")"
      ],
      "execution_count": null,
      "outputs": []
    },
    {
      "cell_type": "code",
      "metadata": {
        "id": "hcLK4eHLK8_Q"
      },
      "source": [
        "cont = 0\n",
        "maiores = 0\n",
        "menores = 0\n",
        "for a in range(1, 8):\n",
        "  cont += 1\n",
        "  ano = int(input(\"Em que ano a {} pessoa nasceu? \".format(cont)))\n",
        "  if(ano < 2003):\n",
        "    maiores += 1\n",
        "  else:\n",
        "    menores += 1\n",
        "print(\"Ao todo tivemos {} menores de idade\".format(menores))\n",
        "print(\"Ao todo tivemos {} maiores de idade\".format(maiores))\n"
      ],
      "execution_count": null,
      "outputs": []
    },
    {
      "cell_type": "code",
      "metadata": {
        "id": "jGoTs_YMuV3R"
      },
      "source": [
        "cont = 0\n",
        "lista = []\n",
        "for a in range(0,5):\n",
        "  cont += 1\n",
        "  lista.append((input(\"Digite o peso da {} pessoa: \".format(cont))))\n",
        "  menor = min(lista)\n",
        "  maior = max(lista)\n",
        "print(\"O menor numero da lista é {}\".format(menor))\n",
        "print(\"O maior numero da lista é {}\".format(maior))"
      ],
      "execution_count": null,
      "outputs": []
    },
    {
      "cell_type": "code",
      "metadata": {
        "id": "R5BrWj_Er-6T"
      },
      "source": [
        "cont = 0\n",
        "total = 0\n",
        "contF = 0 \n",
        "maior = 0\n",
        "\n",
        "for a in range(1,5):\n",
        "  cont += 1\n",
        "  print(\"---- {}ª PESSOA ----\".format(cont))\n",
        "  nome = input(\"Nome: \")\n",
        "  idade = int(input(\"Idade: \"))\n",
        "  sexo = input(\"Sexo [M/F]: \")\n",
        "  total += idade\n",
        "  media = total / 4\n",
        "  if(a == 1 and sexo in \"Mm\"):\n",
        "    maior = a\n",
        "  if(idade > maior and sexo in\"Mm\"):\n",
        "    maior = idade\n",
        "    maiorN = nome\n",
        "  if(idade < 20 and sexo in \"Ff\"):\n",
        "    contF += 1\n",
        "print(\"O homem mais velho é {} e tem {} anos.\".format(maiorN,maior))\n",
        "print(\"Existem {} mulheres com menos de 20 anos no grupo.\".format(contF))\n",
        "print(\"A média de idade é: {}\".format(media))"
      ],
      "execution_count": null,
      "outputs": []
    },
    {
      "cell_type": "code",
      "metadata": {
        "id": "RCTC2zwgoFdZ"
      },
      "source": [
        "sexo = input(\"Digite seu sexo: [F/M]\")\n",
        "while sexo not in \"mMfF\":\n",
        "  sexo = input(\"Digite seu sexo corretamente: [F/M]\")\n",
        "print(\"Dado registrado com sucesso\")"
      ],
      "execution_count": null,
      "outputs": []
    },
    {
      "cell_type": "code",
      "metadata": {
        "id": "ZwYY7FiKvmSG"
      },
      "source": [
        "import random\n",
        "cont = 0\n",
        "num2 = random.randint(0,10)\n",
        "print(\"Acerte um numero de 0 a 10\")\n",
        "num = int(input(\"Seu palpite é: \"))\n",
        "while num2 != num:\n",
        "  cont += 1\n",
        "  num = int(input(\"Você errou, tente dnv: \"))\n",
        "print(\"Você acertou com {} tentativas.\".format(cont))"
      ],
      "execution_count": null,
      "outputs": []
    },
    {
      "cell_type": "code",
      "metadata": {
        "id": "02fXx7tY3TrF"
      },
      "source": [
        "num1 = int(input(\"Digite um número: \"))\n",
        "num2 = int(input(\"Digite outro número: \"))\n",
        "escolha = int(input(\"Escolha uma das opções abaixo:\\n[ 1 ] somar\\n[ 2 ] multiplicar\\n[ 3 ] maior\\n[ 4 ] novos números\\n[ 5 ] sair do programa \"))\n",
        "while escolha != 5:\n",
        "  if(escolha == 1):\n",
        "    soma = num1 + num2\n",
        "    print(\"A soma de {} e {} é {}\".format(num1,num2,soma))\n",
        "    escolha = int(input(\"Escolha uma das opções abaixo:\\n[ 1 ] somar\\n[ 2 ] multiplicar\\n[ 3 ] maior\\n[ 4 ] novos números\\n[ 5 ] sair do programa \"))\n",
        "  if(escolha == 2):\n",
        "    multiplicacao = num1 * num2                                           \n",
        "    print(\"A multiplicação de {} e {} é {}\".format(num1,num2,multiplicacao))\n",
        "    escolha = int(input(\"Escolha uma das opções abaixo:\\n[ 1 ] somar\\n[ 2 ] multiplicar\\n[ 3 ] maior\\n[ 4 ] novos números\\n[ 5 ] sair do programa \"))\n",
        "  if(escolha == 3):\n",
        "    if(num1 > num2):\n",
        "      maior = num1\n",
        "    else:\n",
        "      maior = num2   \n",
        "    print(\"O maior numero é {}.\".format(maior))\n",
        "    escolha = int(input(\"Escolha uma das opções abaixo:\\n[ 1 ] somar\\n[ 2 ] multiplicar\\n[ 3 ] maior\\n[ 4 ] novos números\\n[ 5 ] sair do programa \"))\n",
        "  if(escolha == 4):\n",
        "    num1 = int(input(\"Digite um número: \"))\n",
        "    num2 = int(input(\"Digite outro número: \"))\n",
        "    escolha = int(input(\"Escolha uma das opções abaixo:\\n[ 1 ] somar\\n[ 2 ] multiplicar\\n[ 3 ] maior\\n[ 4 ] novos números\\n[ 5 ] sair do programa \"))\n",
        "print(\"Você saiu!\")"
      ],
      "execution_count": null,
      "outputs": []
    },
    {
      "cell_type": "code",
      "metadata": {
        "id": "xrkL_i1cdovt"
      },
      "source": [
        "num = int(input(\"Digite um numero\\npara calcular seu fatorial: \"))\n",
        "fat = num\n",
        "total = 1\n",
        "while(fat != 1):\n",
        "  fat -= 1\n",
        "  total = num * fat\n",
        "  print(total)\n"
      ],
      "execution_count": null,
      "outputs": []
    },
    {
      "cell_type": "code",
      "metadata": {
        "id": "Zfh0vjRKjnhe"
      },
      "source": [
        "pa = int(input(\"Primeiro termo: \"))\n",
        "razao = int(input(\"Qual a razão? \"))\n",
        "total = pa\n",
        "total2 = 0\n",
        "c = 0\n",
        "while c < 10:\n",
        "  c += 1\n",
        "  print(total, end=\" -> \")\n",
        "  total += razao\n",
        "print(\"ACABOU\")\n",
        "termo = int(input(\"Quantos termos você deseja mostrar a mais? \"))\n",
        "if(termo == 0):\n",
        "] print(\"Sessão finalizada com {} termos utilizados\".format(c))"
      ],
      "execution_count": null,
      "outputs": []
    },
    {
      "cell_type": "code",
      "metadata": {
        "id": "qKpkfoZBNrLl"
      },
      "source": [
        "print(\"-\"*40)\n",
        "print(\"        SEQUENCIA DE FIBONACCI\")\n",
        "print(\"-\"*40) \n",
        "a = 1\n",
        "b = 0\n",
        "c = 0\n",
        "total = 0\n",
        "termo = int(input(\"Quantos termos você quer mostrar? \"))\n",
        "while(termo != c):\n",
        "   c += 1\n",
        "   total = a + b\n",
        "   print(total, end=\" -> \")\n",
        "   a = b\n",
        "   b = total\n",
        "print(\"FIM\")  \n"
      ],
      "execution_count": null,
      "outputs": []
    },
    {
      "cell_type": "code",
      "metadata": {
        "id": "kVpJ6XTP-Ae5"
      },
      "source": [
        "num = 0\n",
        "c = 0\n",
        "total = 0\n",
        "while(num != 999):\n",
        "  c += 1\n",
        "  num = int(input(\"Digite um numero [999 pra parar]\"))\n",
        "  total += num\n",
        "print(\"Você digitou {} números e a soma entre eles foi {}\".format(c - 1,total - 999))"
      ],
      "execution_count": null,
      "outputs": []
    },
    {
      "cell_type": "code",
      "metadata": {
        "id": "xcezydnTCNBt"
      },
      "source": [
        "num = 0\n",
        "cont = \"\"\n",
        "c = 0\n",
        "media = 0\n",
        "total = 0\n",
        "maior = 0\n",
        "menor = 0\n",
        "while(cont in \"sS\"):\n",
        "  c += 1\n",
        "  num = int(input(\"Digite um numero \"))\n",
        "  if(c == 1):\n",
        "    maior = menor = num\n",
        "  else:\n",
        "      if(num > maior):\n",
        "        maior = num\n",
        "      if(num < menor):\n",
        "        menor = num \n",
        "  cont = input(\"Quer continuar? S/N \")\n",
        "  total += num\n",
        "media = total / c\n",
        "print(f\"Você digitou {c} números e a média foi {media}\")\n",
        "print(f\"O menor número foi {menor} e maior foi {maior}\")"
      ],
      "execution_count": null,
      "outputs": []
    },
    {
      "cell_type": "code",
      "metadata": {
        "id": "GnLvcv7O0Bpr"
      },
      "source": [
        "num = c = total = 0\n",
        "while True:\n",
        "  num = int(input(\"Digite um número (999 para parar) \"))\n",
        "  if(num == 999):\n",
        "    break\n",
        "  c += 1\n",
        "  total += num\n",
        "  \n",
        "print(f\"A soma dos {c} valores foi {total}\")"
      ],
      "execution_count": null,
      "outputs": []
    },
    {
      "cell_type": "code",
      "metadata": {
        "id": "UEJJb1-r2yod"
      },
      "source": [
        "num  = 0\n",
        "while True:\n",
        "  num = int(input(\"Quer ver a tabuada de qual valor? \"))\n",
        "  print(\"-\"*20)\n",
        "  if( num < 1):\n",
        "      break\n",
        "  for a in range(1 , 11):  \n",
        "     print(f\"{num} X {a} = {num * a}\")\n",
        "print(\"PROGRAMA ENCERRADO\")"
      ],
      "execution_count": null,
      "outputs": []
    },
    {
      "cell_type": "code",
      "metadata": {
        "id": "tDy8_Lal1pY7"
      },
      "source": [
        "import random\n",
        "print(\"-=\"*20)\n",
        "print(\"         JOGO DO PAR OU IMPAR\")\n",
        "print(\"-=\"*20)\n",
        "escolha = total = cont = 0\n",
        "while True:\n",
        "  num2 = random.randint(0,10)\n",
        "  num = int(input(\"Digite um valor: \"))\n",
        "  escolha = input(\"PAR OU ÍMPAR? (P/I)\")\n",
        "  total = num + num2\n",
        "  if(total % 2 == 0 and escolha in \"pP\"):\n",
        "    print(f\"VOCÊ JOGOU {num} E O COMPUTADOR JOGOU {num2} E O TOTAL DEU {total}\\nDEU PAR\")\n",
        "    print(\"VOCÊ VENCEU\")\n",
        "    print(\"-=\"*20)\n",
        "    cont += 1\n",
        "  if(total % 2 == 1 and escolha in \"iI\"):\n",
        "    print(f\"VOCÊ JOGOU {num} E O COMPUTADOR JOGOU {num2} E O TOTAL DEU {total}\\nDEU ÍMPAR\")\n",
        "    print(\"VOCÊ VENCEU\")\n",
        "    print(\"-=\"*20)\n",
        "    cont += 1\n",
        "  if(total % 2 == 0 and escolha not in \"pP\"):\n",
        "    print(f\"VOCÊ JOGOU {num} E O COMPUTADOR JOGOU {num2} E O TOTAL DEU {total}\\nDEU PAR\")\n",
        "    print(\"VOCÊ PERDEU\")\n",
        "    print(f\"VOCÊ VENCEU {cont} VEZES\")\n",
        "    break\n",
        "  if(total % 2 == 1 and escolha not in \"iI\"):\n",
        "    print(f\"VOCÊ JOGOU {num} E O COMPUTADOR JOGOU {num2} E O TOTAL DEU {total}\\nDEU ÍMPAR\")\n",
        "    print(\"VOCÊ PERDEU\")\n",
        "    print(f\"VOCÊ VENCEU {cont} VEZES\")\n",
        "    break"
      ],
      "execution_count": null,
      "outputs": []
    },
    {
      "cell_type": "code",
      "metadata": {
        "id": "tu5xe53LkSOY"
      },
      "source": [
        "idade =  c = contIdade = contSexo = contSI  = 0\n",
        "sexo = escolha = \" \"\n",
        "\n",
        "while True:\n",
        "  print(\"-\"*30)\n",
        "  print(\"    CADASTRE UMA PESSOA\")\n",
        "  print(\"-\"*30)\n",
        "  idade = int(input(\"Idade: \"))\n",
        "  while sexo not in \"MF\":\n",
        "    sexo = input(\"Sexo: (F/M) \").strip().upper()[0]\n",
        "  while escolha not in \"SN\":\n",
        "    escolha = input(\"Quer continuar? (S/N) \").strip().upper()[0]\n",
        "  if(idade >= 18):\n",
        "    contIdade += 1\n",
        "  if(sexo in \"mM\"):\n",
        "    contSexo += 1\n",
        "  if(sexo in \"fF\" and idade < 20):\n",
        "    contSI += 1\n",
        "  print(\"-\"*30)\n",
        "  if(escolha == \"N\"):\n",
        "    break\n",
        "  \n",
        "print(f\"Total de pessoas com mais de 18 anos {contIdade}\")\n",
        "print(f\"Ao todo temos {contSexo} homens cadastrados\")\n",
        "print(f\"E temos {contSI} mulheres com mais de 20 anos\")"
      ],
      "execution_count": null,
      "outputs": []
    },
    {
      "cell_type": "code",
      "metadata": {
        "id": "KxNFvilcos1s"
      },
      "source": [
        "print(\"-\"*30)\n",
        "print(\"    LOJA SUPER BARATÃO\")\n",
        "print(\"-\"*30)\n",
        "escolha = nome = \" \"\n",
        "preco = total = total1 = menor = cont = 0\n",
        "while True:\n",
        "  nome = str(input(\"Nome do produto: \"))\n",
        "  preco = float(input(\"Preço: R$\"))\n",
        "  total += preco\n",
        "  cont += 1\n",
        "  if(preco > 1000):\n",
        "    total1 += 1\n",
        "  if(cont == 1):\n",
        "    menor = preco\n",
        "  else:\n",
        "    if(preco < menor):\n",
        "      menor = preco\n",
        "\n",
        "  escolha = \" \"\n",
        "  while escolha not in \"SN\":\n",
        "    escolha = str(input(\"Quer continuar? (S/N) \")).strip().upper()[0]\n",
        "  if(escolha == \"N\"):\n",
        "    break\n",
        "print(f\"O menor numero foi {menor}\")\n",
        "print(f\"O total da compra foi {total}\")\n",
        "print(f\"Temos {total1} produto custando mais de R$1000.00\")"
      ],
      "execution_count": null,
      "outputs": []
    },
    {
      "cell_type": "code",
      "metadata": {
        "id": "4Ond556GfY6A"
      },
      "source": [
        "numeros = (\"zero\",\"um\",\"dois\",\"três\",\"quatro\",\"cinco\",\"seis\",\"sete\",\"oito\",\"nove\",\"dez\",\"onze\",\"doze\",\"treze\",\"catorze\",\"quinze\",\"dezesseis\",\"dezessete\",\"dezoito\",\"dezenove\",\"vinte\")\n",
        "num = int(input(\"Digite um número de 0 a 20: \"))\n",
        "while num > 20:\n",
        "  num = int(input(\"Você digitou errado!\\nDigite um número de 0 a 20: \"))\n",
        "print(numeros[num])"
      ],
      "execution_count": null,
      "outputs": []
    },
    {
      "cell_type": "code",
      "metadata": {
        "id": "7bbABFUULjoQ"
      },
      "source": [
        "brasileirao = (\"Internacional\",\"Flamengo\",\"Atletico-MG\",\"São-Paulo\",\"Fluminense\",\"Gremio\",\"Palmeiras\",\"Corinthians\",\"Bragantino\",\"Santos\",\"Atletico-PR\",\"Atletico-GO\",\"Ceara\",\"Chapecoense\",\"Fortaleza\",\"Bahia\",\"Vasco\",\"Goiás\",\"Coritiba\",\"Botafogo\")\n",
        "print(f\"Lista de times do brasileirão: {brasileirao}\")\n",
        "print(f\"Os 5 primeiros são {brasileirao[:5]}\")\n",
        "print(f\"Os 4 ultimos são {brasileirao[16:20]}\")\n",
        "print(f\"Time em ordem alfabetica: {sorted(brasileirao)}\")\n",
        "indice = brasileirao.index(\"Chapecoense\")\n",
        "print(f\"A Chapecoense está na posição {indice}\")"
      ],
      "execution_count": null,
      "outputs": []
    },
    {
      "cell_type": "code",
      "metadata": {
        "id": "sZUXwHRTePHn",
        "colab": {
          "base_uri": "https://localhost:8080/"
        },
        "outputId": "e3447512-92fc-4159-d1d7-dbcb803b057f"
      },
      "source": [
        "from random import sample\n",
        "a = tuple(sample(range(10), 5))\n",
        "print(f'Os números sorteados foram: {a}\\nO maior valor é {max(a)} e o menor é {min(a)}.')"
      ],
      "execution_count": null,
      "outputs": [
        {
          "output_type": "stream",
          "text": [
            "Os números sorteados foram: (5, 1, 2, 9, 8)\n",
            "O maior valor é 9 e o menor é 1.\n"
          ],
          "name": "stdout"
        }
      ]
    },
    {
      "cell_type": "code",
      "metadata": {
        "colab": {
          "base_uri": "https://localhost:8080/"
        },
        "id": "OQfdEYLuJmmt",
        "outputId": "cbe79f25-d9a4-413f-fc0f-60991d565865"
      },
      "source": [
        "tuple = (int(input(\"Digite um numero: \")), int(input(\"Digite outro numero: \")),int(input(\"Digite mais um numero: \")),int(input(\"Digite o ultimo numero: \")))\n",
        "cont = tuple.count(9)\n",
        "print(f\"Você digitou os valores {tuple}\\nO valor 3 aparece na {indice + 1} posição\\nO valor 9 aparece {cont} vezes\")\n",
        "print(\"Os valores pares digitados foram: \",end=\"\")\n",
        "for n in tuple:\n",
        "  if(n % 2 == 0):\n",
        "    print(n,end=\" \")"
      ],
      "execution_count": null,
      "outputs": [
        {
          "output_type": "stream",
          "text": [
            "Digite um numero: 4\n",
            "Digite outro numero: 3\n",
            "Digite mais um numero: 2\n",
            "Digite o ultimo numero: 4\n",
            "Você digitou os valores (4, 3, 2, 4)\n",
            "O valor 3 aparece na 1 posição\n",
            "O valor 9 aparece 0 vezes\n",
            "Os valores pares digitados foram: 4 2 4 "
          ],
          "name": "stdout"
        }
      ]
    },
    {
      "cell_type": "code",
      "metadata": {
        "colab": {
          "base_uri": "https://localhost:8080/"
        },
        "id": "Nwa4LwHewk9Q",
        "outputId": "ea326191-cf65-472f-ed05-f4947ae005b7"
      },
      "source": [
        "tupla = (\"Lápis\",1.75,\"Borracha\",2.00,\"Caderno\",15.90,\"Estojo\",25.00,\"Transferidor\",4.20,\"Compasso\",5.70,\"Mochila\",32.15,\"Canetas\",2.50,\"Livro\",25.30)\n",
        "print(\"-\"*30)\n",
        "print(\"{:^30}\".format(\"LISTAGEM DE PREÇOS\"))\n",
        "print(\"-\"*30)\n",
        "for n in range(0, len(tupla),2):\n",
        "  print(f\"{tupla[n]:.<30}\")\n",
        "  \n",
        "print(\"-\"*30)"
      ],
      "execution_count": null,
      "outputs": [
        {
          "output_type": "stream",
          "text": [
            "------------------------------\n",
            "      LISTAGEM DE PREÇOS      \n",
            "------------------------------\n",
            "Lápis.........................\n",
            "Borracha......................\n",
            "Caderno.......................\n",
            "Estojo........................\n",
            "Transferidor..................\n",
            "Compasso......................\n",
            "Mochila.......................\n",
            "Canetas.......................\n",
            "Livro.........................\n",
            "------------------------------\n"
          ],
          "name": "stdout"
        }
      ]
    },
    {
      "cell_type": "code",
      "metadata": {
        "colab": {
          "base_uri": "https://localhost:8080/"
        },
        "id": "nT8pBaGYVyRR",
        "outputId": "84f7e666-aaa1-4916-c58a-3527168a5aa4"
      },
      "source": [
        "tupla = (\"Lápis\",1.75,\"Borracha\",2.00,\"Caderno\",15.90,\"Estojo\",25.00,\"Transferidor\",4.20,\"Compasso\",5.70,\"Mochila\",32.15,\"Canetas\",2.50,\"Livro\",25.30)\n",
        "for i in tupla:\n",
        "    if type(i) is str:\n",
        "        print(f'{i:.<32}', end='')\n",
        "    else:\n",
        "        print(f'R$ {i:>5.2f}')\n",
        "print('--'*20)"
      ],
      "execution_count": null,
      "outputs": [
        {
          "output_type": "stream",
          "text": [
            "Lápis...........................R$  1.75\n",
            "Borracha........................R$  2.00\n",
            "Caderno.........................R$ 15.90\n",
            "Estojo..........................R$ 25.00\n",
            "Transferidor....................R$  4.20\n",
            "Compasso........................R$  5.70\n",
            "Mochila.........................R$ 32.15\n",
            "Canetas.........................R$  2.50\n",
            "Livro...........................R$ 25.30\n",
            "----------------------------------------\n"
          ],
          "name": "stdout"
        }
      ]
    },
    {
      "cell_type": "code",
      "metadata": {
        "colab": {
          "base_uri": "https://localhost:8080/"
        },
        "id": "qOGikZbsV4-J",
        "outputId": "68bdad55-3be8-4e1d-e658-aa71a1bef939"
      },
      "source": [
        "tupla = (\"aprender\",\"programar\",\"linguagem\",\"python\",\"curso\",\"gratis\",\"estudar\",\"praticar\",\"trabalhar\",\"mercado\",\"programador\",\"futuro\")\n",
        "for palavras in tupla:\n",
        "  print(f\"\\nNa palavra {palavras.upper()} temos \",end=\" \")\n",
        "  for letra in palavras:\n",
        "    if(letra.lower() in \"aeiou\"):\n",
        "      print(letra, end=\" \")"
      ],
      "execution_count": null,
      "outputs": [
        {
          "output_type": "stream",
          "text": [
            "\n",
            "Na palavra APRENDER temos  a e e \n",
            "Na palavra PROGRAMAR temos  o a a \n",
            "Na palavra LINGUAGEM temos  i u a e \n",
            "Na palavra PYTHON temos  o \n",
            "Na palavra CURSO temos  u o \n",
            "Na palavra GRATIS temos  a i \n",
            "Na palavra ESTUDAR temos  e u a \n",
            "Na palavra PRATICAR temos  a i a \n",
            "Na palavra TRABALHAR temos  a a a \n",
            "Na palavra MERCADO temos  e a o \n",
            "Na palavra PROGRAMADOR temos  o a a o \n",
            "Na palavra FUTURO temos  u u o "
          ],
          "name": "stdout"
        }
      ]
    },
    {
      "cell_type": "code",
      "metadata": {
        "colab": {
          "base_uri": "https://localhost:8080/"
        },
        "id": "C37Yu0TGwgxe",
        "outputId": "930f3e78-227d-4dc8-e829-8a7d6ebd6d90"
      },
      "source": [
        "valores = list(range(4,20))\n",
        "print(valores)"
      ],
      "execution_count": null,
      "outputs": [
        {
          "output_type": "stream",
          "text": [
            "[4, 5, 6, 7, 8, 9, 10, 11, 12, 13, 14, 15, 16, 17, 18, 19]\n"
          ],
          "name": "stdout"
        }
      ]
    },
    {
      "cell_type": "code",
      "metadata": {
        "colab": {
          "base_uri": "https://localhost:8080/"
        },
        "id": "Y3vVDmcEkrOT",
        "outputId": "34bcb74d-f62b-4e74-f0fa-b33ef5d99a7a"
      },
      "source": [
        "lista = []\n",
        "for x in range(0,5):\n",
        "  lista.append(int(input(f\"Digite um valor para a posição {x} \")))\n",
        "menor = min(lista)\n",
        "maior = max(lista)\n",
        "print(f\"Você digitou os valores: {lista}\")\n",
        "print(f\"O maior numero digitado foi {maior} nas posições {}\")\n",
        "print(f\"O maior numero digitado foi {menor} nas posições {}\")\n"
      ],
      "execution_count": null,
      "outputs": [
        {
          "output_type": "stream",
          "text": [
            "Digite um valor para a posição 0 4\n",
            "Digite um valor para a posição 1 4\n",
            "Digite um valor para a posição 2 99\n",
            "Digite um valor para a posição 3 99\n",
            "Digite um valor para a posição 4 5\n",
            "Você digitou os valores: [4, 4, 99, 99, 5]\n",
            "O maior numero digitado foi 99 nas posições 2\n",
            "O maior numero digitado foi 4 nas posições 0\n"
          ],
          "name": "stdout"
        }
      ]
    },
    {
      "cell_type": "code",
      "metadata": {
        "colab": {
          "base_uri": "https://localhost:8080/"
        },
        "id": "ML8Kx4ifuQXZ",
        "outputId": "bbf4720a-07c7-4e1e-c086-9c7fece90d0b"
      },
      "source": [
        "lista = []\n",
        "cont = \"\"\n",
        "while cont in \"Ss\":\n",
        "  x = nint(input(\"Digite um valor: \"))\n",
        "  if x not in lista:\n",
        "    lista.append(x)\n",
        "  else:\n",
        "    print(\"Valor duplicado\")\n",
        "  cont = input(\"Quer continuar? S/N \")\n",
        "print(lista)"
      ],
      "execution_count": null,
      "outputs": [
        {
          "output_type": "stream",
          "text": [
            "Digite um valor: 3\n",
            "Quer continuar? S/N s\n",
            "Digite um valor: 4\n",
            "Quer continuar? S/N s\n",
            "Digite um valor: 4\n",
            "Valor duplicado\n",
            "Quer continuar? S/N n\n",
            "[3, 4]\n"
          ],
          "name": "stdout"
        }
      ]
    },
    {
      "cell_type": "code",
      "metadata": {
        "colab": {
          "base_uri": "https://localhost:8080/"
        },
        "id": "bBw0930qOKdr",
        "outputId": "aeeba71b-78a4-4cf9-fb16-3156cdda20dd"
      },
      "source": [
        "lista = []\n",
        "cont = \"\"\n",
        "while cont in \"Ss\":\n",
        "  x = lista.append(int(input(\"Digite um valor: \"))) \n",
        "  cont = input(\"Quer continuar? S/N \")\n",
        "print(f\"Você digitou {len(lista)} números\")\n",
        "lista.sort(reverse=True)\n",
        "print(f\"Os números em ordem decrescente são: {lista}\")\n",
        "if 5 in lista:\n",
        "  print(\"O valor 5 foi encontrado na lista\")\n",
        "else:\n",
        "  print(\"O valor 5 não foi encontrado na lista\")"
      ],
      "execution_count": null,
      "outputs": [
        {
          "output_type": "stream",
          "text": [
            "Digite um valor: 5\n",
            "Quer continuar? S/N n\n",
            "Você digitou 1 números\n",
            "Os números em ordem decrescente são: [5]\n",
            "O valor 5 foi encontrado na lista\n"
          ],
          "name": "stdout"
        }
      ]
    },
    {
      "cell_type": "code",
      "metadata": {
        "id": "rC0Iy2a5ahA2"
      },
      "source": [
        "lista = []\n",
        "pares = []\n",
        "impares = []\n",
        "cont = \"\"\n",
        "while cont in \"Ss\":\n",
        "  x =int(input(\"Digite um valor: \"))\n",
        "  lista.append(x) \n",
        "  cont = input(\"Quer continuar? S/N \")\n",
        "  if(x % 2 == 0):\n",
        "    pares.append(x)\n",
        "  else:\n",
        "    impares.append(x)\n",
        "print(lista)\n",
        "print(pares)\n",
        "print(impares)\n",
        "\n"
      ],
      "execution_count": null,
      "outputs": []
    },
    {
      "cell_type": "code",
      "metadata": {
        "id": "VL4vhKdOshMK"
      },
      "source": [
        "lista = []\n",
        "dado = []\n",
        "cont = \"\"\n",
        "c = maior = menor = 0\n",
        "while cont in \"Ss\":\n",
        "  dado.append(str(input(\"Digite seu nome: \")))\n",
        "  dado.append(float(input(\"Digite seu peso: \")))\n",
        "  if(len(lista)==0):\n",
        "    maior = menor = dado[1]\n",
        "  else:\n",
        "    if(dado[1] > maior):\n",
        "      maior = dado[1]\n",
        "    if(dado[1] < menor):\n",
        "      menor = dado[1]\n",
        "  cont = str(input(\"Quer continuar? S/N \"))\n",
        "  lista.append(dado[:])\n",
        "  dado.clear()\n",
        "print(f\"{maior}\")\n",
        "for t in lista:\n",
        "  if t[1] == maior:\n",
        "    print(t[0])\n",
        "print(f\"{menor}\")\n",
        "for i in lista:\n",
        "  if i[1] == menor:\n",
        "    print(i[0])\n",
        "print(f\"Você cadastrou {len(lista)} pessoas.\")\n",
        "\n"
      ],
      "execution_count": null,
      "outputs": []
    },
    {
      "cell_type": "code",
      "metadata": {
        "id": "anVTJ-Fvvd7r",
        "colab": {
          "base_uri": "https://localhost:8080/"
        },
        "outputId": "5519916c-419a-4c6c-8c0d-4c3a857b447b"
      },
      "source": [
        "\n",
        "numeros = [[],[]]\n",
        "x = 0 \n",
        "for i in range(1,8):\n",
        "  x = int(input(f\"Digite o{i}. valor: \"))\n",
        "  if x % 2 == 0:\n",
        "    numeros[0].append(x)\n",
        "  else:\n",
        "    numeros[1].append(x)\n",
        "numeros[0].sort()\n",
        "numeros[1].sort\n",
        "print(\"-=\"*30)\n",
        "print(f\"Os valores pares digitados foram: {numeros[0]}\\nOs valores impares digitados foram: {numeros[1]}\")"
      ],
      "execution_count": null,
      "outputs": [
        {
          "output_type": "stream",
          "text": [
            "Digite o1. valor: 3\n",
            "Digite o2. valor: 4\n",
            "Digite o3. valor: 5\n",
            "Digite o4. valor: 6\n",
            "Digite o5. valor: 7\n",
            "Digite o6. valor: 8\n",
            "Digite o7. valor: 6\n",
            "-=-=-=-=-=-=-=-=-=-=-=-=-=-=-=-=-=-=-=-=-=-=-=-=-=-=-=-=-=-=\n",
            "Os valores pares digitados foram: [4, 6, 6, 8]\n",
            "Os valores impares digitados foram: [3, 5, 7]\n"
          ],
          "name": "stdout"
        }
      ]
    },
    {
      "cell_type": "code",
      "metadata": {
        "id": "CVlg2rq1zTUg"
      },
      "source": [
        "matriz = [\n",
        "          [0,0,0],\n",
        "          [0,0,0],\n",
        "          [0,0,0]\n",
        "          ]\n",
        "sum = sum3 = maior = 0\n",
        "for l in range(3):\n",
        "  for c in range(3):\n",
        "    matriz[l][c] = int(input(f\"Digite um numero na posição: [{l}],[{c}] \"))\n",
        "    sum3 += matriz[l][2]\n",
        "print('-='*30)\n",
        "for l in range(3):\n",
        "  for c in range(3):\n",
        "    if(matriz[l][c] % 2 == 0):\n",
        "      sum += matriz[l][c]\n",
        "    print(f'[{matriz[l][c]:^5}]', end='')\n",
        "  print()\n",
        "for c in range(3):\n",
        "  if c == 0:\n",
        "    maior = matriz[1][c]\n",
        "  elif matriz[1][c] > maior:\n",
        "    maior = matriz[1][c]\n",
        "print(f\"O maior da segunda linha é: {maior}\")\n",
        "print(f\"A soma dos pares é: {sum}\")\n",
        "print(f\"A soma da coluna 3 é : {sum3}\")"
      ],
      "execution_count": null,
      "outputs": []
    },
    {
      "cell_type": "code",
      "metadata": {
        "id": "-WYTM0kHCp1z",
        "colab": {
          "base_uri": "https://localhost:8080/"
        },
        "outputId": "845f404d-457c-4ee6-d7b0-085b0763a7b9"
      },
      "source": [
        "a = \"The greatest victory is that which requires no battle\"\n",
        "print(a[1::])\n",
        "x = list(sample(range(60), 6))\n",
        "x = list(sample(range(60), 6))\n"
      ],
      "execution_count": null,
      "outputs": [
        {
          "output_type": "stream",
          "text": [
            "he greatest victory is that which requires no battle\n"
          ],
          "name": "stdout"
        }
      ]
    },
    {
      "cell_type": "code",
      "metadata": {
        "id": "2kWffkLYXFGA",
        "colab": {
          "base_uri": "https://localhost:8080/"
        },
        "outputId": "c8aa64a0-17a7-4dca-e0a1-600dc461ab21"
      },
      "source": [
        "from random import sample\n",
        "print(\"-\"*40)\n",
        "print(\"JOGA NA MEGA SENA \")\n",
        "print(\"-\"*40)\n",
        "jogos = int(input(\"Quantos jogos você quer que eu sorteie? \"))\n",
        "lista = list()\n",
        "print(f\"-=-=-= SORTEANDO {jogos} JOGOS -=-=-=\")\n",
        "for c in range(1,jogos+1):\n",
        "    x = sorted(sample(range(61), 6))\n",
        "    lista.append(x[:])\n",
        "    print(f\"Jogo {c}: {x}\")\n"
      ],
      "execution_count": null,
      "outputs": [
        {
          "output_type": "stream",
          "text": [
            "----------------------------------------\n",
            "JOGA NA MEGA SENA \n",
            "----------------------------------------\n",
            "Quantos jogos você quer que eu sorteie? 4\n",
            "-=-=-= SORTEANDO 4 JOGOS -=-=-=\n",
            "Jogo 1: [19, 21, 33, 39, 43, 60]\n",
            "Jogo 2: [9, 11, 18, 28, 45, 55]\n",
            "Jogo 3: [2, 7, 27, 38, 39, 57]\n",
            "Jogo 4: [14, 22, 24, 31, 53, 55]\n"
          ],
          "name": "stdout"
        }
      ]
    },
    {
      "cell_type": "code",
      "metadata": {
        "colab": {
          "base_uri": "https://localhost:8080/"
        },
        "id": "NfUW5WZUieIv",
        "outputId": "e782f2cf-fb79-45d3-b9c9-efbbe11e8613"
      },
      "source": [
        "lista = []\n",
        "nome = cont =  \" \"\n",
        "media = nota1 = nota2 = 0\n",
        "while True:\n",
        "  nome = str(input(\"Nome: \"))\n",
        "  nota1 = float(input(\"Nota 1: \"))\n",
        "  nota2 = float(input(\"Nota 2: \"))\n",
        "  media = (nota1 + nota2) / 2\n",
        "  cont = str(input(\"Quer continuar? S/N \"))\n",
        "  lista.append([nome, [nota1, nota2],media])\n",
        "  if cont in \"nN\": break\n",
        "print(f'{\"No.\":<4}{\"NOME\":<10}{\"MÉDIA\":>10}')\n"
      ],
      "execution_count": null,
      "outputs": [
        {
          "output_type": "stream",
          "text": [
            "Nome: Thiago\n",
            "Nota 1: 3\n",
            "Nota 2: 4\n",
            "Quer continuar? S/N s\n",
            "Nome: Lucas\n",
            "Nota 1: 3\n",
            "Nota 2: 9\n",
            "Quer continuar? S/N s\n",
            "Nome: Lucas\n",
            "Nota 1: 2\n",
            "Nota 2: 4\n",
            "Quer continuar? S/N n\n",
            "No. NOME           MÉDIA\n"
          ],
          "name": "stdout"
        }
      ]
    },
    {
      "cell_type": "code",
      "metadata": {
        "colab": {
          "base_uri": "https://localhost:8080/"
        },
        "id": "rOlFuCqqQ0_8",
        "outputId": "28dbd798-1563-42b3-dccd-942d6daf8d4a"
      },
      "source": [
        "# -*- coding: utf-8 -*-\n",
        "linha1 = input().split(\" \")\n",
        "a = int(linha1[0])\n",
        "b = int(linha1[1])\n",
        "c = int(linha1[2])\n",
        "lista = [a,b,c]\n",
        "lista.sort()\n",
        "print(lista[0])\n",
        "print(lista[1])\n",
        "print(lista[2])\n",
        "print()\n",
        "print(a)\n",
        "print(b)\n",
        "print(c)"
      ],
      "execution_count": null,
      "outputs": [
        {
          "output_type": "stream",
          "text": [
            "9 5 2\n",
            "2\n",
            "5\n",
            "9\n",
            "\n",
            "9\n",
            "5\n",
            "2\n"
          ],
          "name": "stdout"
        }
      ]
    },
    {
      "cell_type": "code",
      "metadata": {
        "colab": {
          "base_uri": "https://localhost:8080/"
        },
        "id": "057MBBw8Ybyo",
        "outputId": "bd34f579-5a9c-4783-f23f-996593f8e927"
      },
      "source": [
        "a = float(input())\n",
        "if a <= 400.00:\n",
        "  b = (a * 0.15)\n",
        "  c = b + a\n",
        "  print(f\"Novo salario: {c:.2f}\")\n",
        "  print(f\"Reajuste ganho: {b:.2f}\")\n",
        "  print(\"Em percentual: 15 %\")\n",
        "elif a >= 400.01 and a <= 800.00:\n",
        "  d = (a * 0.12)\n",
        "  e = d + a\n",
        "  print(f\"Novo salario: {e:.2f}\")\n",
        "  print(f\"Reajuste ganho: {d:.2f}\")\n",
        "  print(\"Em percentual: 12 %\")\n",
        "elif a >= 800.01 and a <= 1200.00:\n",
        "  f = (a * 0.10)\n",
        "  g = f + a\n",
        "  print(f\"Novo salario: {g:.2f}\")\n",
        "  print(f\"Reajuste ganho: {f:.2f}\")\n",
        "  print(\"Em percentual: 10 %\")\n",
        "elif a >= 1200.01 and a <= 2000.00:\n",
        "  h = (a * 0.07)\n",
        "  i = h + a\n",
        "  print(f\"Novo salario: {i:.2f}\")\n",
        "  print(f\"Reajuste ganho: {h:.2f}\")\n",
        "  print(\"Em percentual: 7 %\")\n",
        "else:\n",
        "  j = (a * 0.04)\n",
        "  k = j + a\n",
        "  print(f\"Novo salario: {k:.2f}\")\n",
        "  print(f\"Reajuste ganho: {j:.2f}\")\n",
        "  print(\"Em percentual: 4 %\")\n"
      ],
      "execution_count": null,
      "outputs": [
        {
          "output_type": "stream",
          "text": [
            "1800\n",
            "Novo salario: 1926.00\n",
            "Reajuste ganho: 126.00\n",
            "Em percentual: 7 %\n"
          ],
          "name": "stdout"
        }
      ]
    },
    {
      "cell_type": "code",
      "metadata": {
        "id": "dqGZ0iQ6bl1e"
      },
      "source": [
        "a = str(input())\n",
        "b = str(input())\n",
        "c = str(input())\n",
        "if a == \"vertebrado\" and b == \"ave\" and c == \"carnivoro\":\n",
        "  print(\"aguia\")\n",
        "if a == \"vertebrado\" and b == \"ave\" and c == \"onivoro\":\n",
        "  print(\"pomba\")\n",
        "if a == \"vertebrado\" and b == \"mamifero\" and c == \"onivoro\":\n",
        "  print(\"homem\")\n",
        "if a == \"vertebrado\" and b == \"mamifero\" and c == \"herbivoro\":\n",
        "  print(\"vaca\")\n",
        "if a == \"invertebrado\" and b == \"inseto\" and c == \"hematofago\":\n",
        "  print(\"pulga\")\n",
        "if a == \"invertebrado\" and b == \"inseto\" and c == \"herbivoro\":\n",
        "  print(\"largata\")\n",
        "if a == \"invertebrado\" and b == \"anelideo\" and c == \"hematofago\":\n",
        "  print(\"sanguessuga\")\n",
        "if a == \"invertebrado\" and b == \"anelideo\" and c == \"onivoro\":\n",
        "  print(\"minhoca\")\n",
        "\n",
        "\n",
        "\n",
        "\n"
      ],
      "execution_count": null,
      "outputs": []
    },
    {
      "cell_type": "code",
      "metadata": {
        "colab": {
          "base_uri": "https://localhost:8080/"
        },
        "id": "k-uK-AWI48tn",
        "outputId": "a14f63ff-829a-45c0-92e6-192157930643"
      },
      "source": [
        "linha1 = input().split(\" \")\n",
        "a = float(linha1[0])\n",
        "b = float(linha1[1])\n",
        "c = float(linha1[2])\n",
        "d = float(linha1[3])\n",
        "media = ((a * 2) + (b * 3) + (c * 4) + d) / 10\n",
        "print(f\"Media: {media:.1f}\")\n",
        "if media >= 7.0:\n",
        "  print(\"Aluno aprovado.\")\n",
        "if media < 5.0:\n",
        "  print(\"Aluno reprovado.\")\n",
        "if media >= 5.0 and media < 7.0:\n",
        "  print(\"Aluno em exame.\")\n",
        "  exame = float(input())\n",
        "  print(f\"Nota do exame: {exame:.1f}\")\n",
        "  total = (exame + media) / 2\n",
        "  if total >= 5.0:\n",
        "      print(\"Aluno aprovado.\")\n",
        "      print(f\"Media final: {total:.1f}\")\n",
        "  else:\n",
        "      print(\"Aluno reprovado.\")\n",
        "      print(f\"Media final: {total:.1f}\")\n",
        "\n"
      ],
      "execution_count": null,
      "outputs": [
        {
          "output_type": "stream",
          "text": [
            "2.0 4.0 7.5 8.0\n",
            "Media: 5.4\n",
            "Aluno em exame.\n",
            "6.4\n",
            "Nota do exame: 6.4\n",
            "Aluno aprovado.\n",
            "Media final: 5.9\n"
          ],
          "name": "stdout"
        }
      ]
    },
    {
      "cell_type": "code",
      "metadata": {
        "colab": {
          "base_uri": "https://localhost:8080/"
        },
        "id": "apj8rnyi39TK",
        "outputId": "5a7d16bd-e838-43fe-a1d6-57ef65f45e07"
      },
      "source": [
        "linha1 = input().split(\" \")\n",
        "a = float(linha1[0])\n",
        "b = float(linha1[1])\n",
        "c = float(linha1[2])\n",
        "\n",
        "if a + b > c and b + c > a and a + c > b:\n",
        "  d = a + b + c\n",
        "  print(f\"Perimetro = {d:.1f}\")\n",
        "else:\n",
        "  e = ((a + b) * c) / 2\n",
        "  print(f\"Area = {e:.1f}\")"
      ],
      "execution_count": null,
      "outputs": [
        {
          "output_type": "stream",
          "text": [
            "6.0 4.0 2.0\n",
            "Area = 10.0\n"
          ],
          "name": "stdout"
        }
      ]
    },
    {
      "cell_type": "code",
      "metadata": {
        "colab": {
          "base_uri": "https://localhost:8080/"
        },
        "id": "YsrDvCOSxRZ_",
        "outputId": "50306f6d-3c60-4c42-951f-4b2b04e97d1e"
      },
      "source": [
        "num = float(input())\n",
        "if num <= 2000.00:\n",
        "  print(\"Isento\")\n",
        "elif num > 2000.00 and num <= 3000.00:\n",
        "  b = num - 2000.00\n",
        "  a = b * 0.08\n",
        "  print(f\"R$ {a:.2f}\")\n",
        "elif num > 3000.00 and num <= 4500.00:\n",
        "  b = num - 3000\n",
        "  a = (b * 0.18) + (1000 * 0.08)\n",
        "  print(f\"R$ {a:.2f}\")\n",
        "else:\n",
        "  b = num - 4500\n",
        "  a = (b * 0.28) + (1500 * 0.18) + (1000 * 0.08)\n",
        "  print(f\"R$ {a:.2f}\")\n"
      ],
      "execution_count": null,
      "outputs": [
        {
          "output_type": "stream",
          "text": [
            "4520\n",
            "R$ 355.60\n"
          ],
          "name": "stdout"
        }
      ]
    },
    {
      "cell_type": "code",
      "metadata": {
        "id": "eAyDnmnpgaZD",
        "colab": {
          "base_uri": "https://localhost:8080/"
        },
        "outputId": "0fcb547b-2811-479e-ce37-edb7b4a6181d"
      },
      "source": [
        "linha1 = input().split(\" \")\n",
        "a = float(linha1[0])\n",
        "b = float(linha1[1])\n",
        "c = float(linha1[2])\n",
        "if a >= b + c:\n",
        "  print(\"NAO FORMA TRIANGULO\")\n"
      ],
      "execution_count": null,
      "outputs": [
        {
          "output_type": "stream",
          "text": [
            "5.0 7.0 2.0\n"
          ],
          "name": "stdout"
        }
      ]
    },
    {
      "cell_type": "code",
      "metadata": {
        "colab": {
          "base_uri": "https://localhost:8080/"
        },
        "id": "ErpkCg4ZGGex",
        "outputId": "ce6f5096-8898-464a-96bf-cf83232a7047"
      },
      "source": [
        "nome = str(input(\"Nome: \"))\n",
        "media = float(input(f'Média de {nome}: '))\n",
        "dados = {'nome': nome, 'media': media}\n",
        "print(\"=-\"*35)\n",
        "print(f\" - Nome é igual a {dados['nome']}\")\n",
        "print(f\" - Média é igual a {dados['media']}\")\n",
        "if(dados['media'] >= 7.0 ):\n",
        "  print(\" - A situação é igual a aprovado\")\n",
        "elif(dados['media'] >= 5.0 and dados['media'] < 7):\n",
        "  print(\" - A situação é igual a recuperação\")\n",
        "else:\n",
        "  print(\" - A situação é igual a reprovado\")"
      ],
      "execution_count": null,
      "outputs": [
        {
          "output_type": "stream",
          "text": [
            "Nome: Thiago\n",
            "Média de Thiago: 5.6\n",
            "=-=-=-=-=-=-=-=-=-=-=-=-=-=-=-=-=-=-=-=-=-=-=-=-=-=-=-=-=-=-=-=-=-=-=-\n",
            " - Nome é igual a Thiago\n",
            " - Média é igual a 5.6\n",
            " - A situação é igual recuperação\n"
          ],
          "name": "stdout"
        }
      ]
    },
    {
      "cell_type": "code",
      "metadata": {
        "colab": {
          "base_uri": "https://localhost:8080/"
        },
        "id": "zqek5A-IWinz",
        "outputId": "2bcadcd0-0b28-4d84-9d18-3e08dd0a1fd0"
      },
      "source": [
        "from random import randint\n",
        "\n",
        "dicionario = {'jogador1': randint(1,6), 'jogador2': randint(1,6), 'jogador3': randint(1,6), 'jogador4': randint(1,6)}\n",
        "for k, v in dicionario.items():\n",
        "  print(f\"{k} tirou {v} no dado\")"
      ],
      "execution_count": null,
      "outputs": [
        {
          "output_type": "stream",
          "text": [
            "jogador1 tirou 4 no dado\n",
            "jogador2 tirou 6 no dado\n",
            "jogador3 tirou 4 no dado\n",
            "jogador4 tirou 5 no dado\n"
          ],
          "name": "stdout"
        }
      ]
    },
    {
      "cell_type": "code",
      "metadata": {
        "id": "lxnrvFyUKOia",
        "colab": {
          "base_uri": "https://localhost:8080/"
        },
        "outputId": "d074c69a-258d-4772-8751-c0fa99407eea"
      },
      "source": [
        "nome = str(input(\"Nome: \"))\n",
        "ano = int(input(\"Ano de nascimento: \"))\n",
        "cpts = int(input(\"Carteira de trabalho (0 não tem): \"))\n",
        "idade = 2021 - ano\n",
        "dicionario = {'nome': nome, 'idade': idade, 'cpts': cpts}\n",
        "if dicionario['cpts'] > 0:\n",
        "  dicionario['contratacao'] = int(input(\"Ano de contratação: \"))\n",
        "  dicionario['salario'] = float(input(\"Salário: \"))\n",
        "for k,v in dicionario.items():\n",
        "  print(f\"{k} tem o valor {v}\")"
      ],
      "execution_count": null,
      "outputs": [
        {
          "output_type": "stream",
          "text": [
            "Nome: Thiago\n",
            "Ano de nascimento: 2001\n",
            "Carteira de trabalho (0 não tem): 231\n",
            "Ano de contratação: 2021\n",
            "Salário: 2500\n",
            "nome tem o valor Thiago\n",
            "idade tem o valor 20\n",
            "cpts tem o valor 231\n",
            "contratacao tem o valor 2021\n",
            "salario tem o valor 2500.0\n"
          ],
          "name": "stdout"
        }
      ]
    },
    {
      "cell_type": "code",
      "metadata": {
        "id": "5zv9NGsFrg4f",
        "colab": {
          "base_uri": "https://localhost:8080/"
        },
        "outputId": "e5e860a7-405e-4eea-aba0-42f264f69c38"
      },
      "source": [
        "def area(l,c):\n",
        "  total = l * c\n",
        "  print(f\"A área de um terreno {largura} x {cm} é de {total}m²\")\n",
        "print(\" Controle de terrenos\")\n",
        "print(\"-\"*20)\n",
        "largura = float(input(\"LARGURA (m): \"))\n",
        "cm = float(input(\"COMPRIMENTO (m): \"))\n",
        "area(largura, cm)"
      ],
      "execution_count": null,
      "outputs": [
        {
          "output_type": "stream",
          "text": [
            " Controle de terrenos\n",
            "--------------------\n",
            "LARGURA (m): 10\n",
            "COMPRIMENTO (m): 25.5\n",
            "A área de um terreno 10.0 x 25.5 é de 255.0m²\n"
          ],
          "name": "stdout"
        }
      ]
    },
    {
      "cell_type": "code",
      "metadata": {
        "colab": {
          "base_uri": "https://localhost:8080/"
        },
        "id": "V4TxhUJxtA9-",
        "outputId": "81e43c54-18ce-4ccf-f118-ecc6dc8b1fa4"
      },
      "source": [
        "def mensagem(msg):\n",
        "  tam = len(msg)\n",
        "  print(\"~\"*tam)\n",
        "  print(msg)\n",
        "  print(\"~\"*tam)\n",
        "\n",
        "mensagem(\"Gustavo Guanabara\")\n",
        "mensagem(\"OS CARA LÁ\")\n",
        "mensagem(\"Cev\")"
      ],
      "execution_count": null,
      "outputs": [
        {
          "output_type": "stream",
          "text": [
            "~~~~~~~~~~~~~~~~~\n",
            "Gustavo Guanabara\n",
            "~~~~~~~~~~~~~~~~~\n",
            "~~~~~~~~~~\n",
            "OS CARA LÁ\n",
            "~~~~~~~~~~\n",
            "~~~\n",
            "Cev\n",
            "~~~\n"
          ],
          "name": "stdout"
        }
      ]
    },
    {
      "cell_type": "code",
      "metadata": {
        "colab": {
          "base_uri": "https://localhost:8080/"
        },
        "id": "QVxW_G8ItBGx",
        "outputId": "fbe91291-f2fb-4a0e-cf09-1f9b985481a1"
      },
      "source": [
        "from  time import sleep \n",
        "def cont1(i,l,p):\n",
        "  cont = 0\n",
        "  print(f\"Contagem de {i} até {l} de {p} em {p}\")\n",
        "  if i < l:\n",
        "    cont = i\n",
        "    while cont <= l:\n",
        "      print(f\"{cont}\", end=\" \")\n",
        "      cont += p\n",
        "      sleep(0.5)\n",
        "  else:\n",
        "    cont = i\n",
        "    while cont >= l:\n",
        "      print(f\"{cont}\", end=\" \")\n",
        "      cont -= p\n",
        "      sleep(0.5)\n",
        "  print(\"FIM!\")   \n",
        "cont1(1,10,1)\n",
        "cont1(10,0,2)\n",
        "cont1(1, -10,1)"
      ],
      "execution_count": null,
      "outputs": [
        {
          "output_type": "stream",
          "text": [
            "Contagem de 1 até 10 de 1 em 1\n",
            "1 2 3 4 5 6 7 8 9 10 FIM!\n",
            "Contagem de 10 até 0 de 2 em 2\n",
            "10 8 6 4 2 0 FIM!\n",
            "Contagem de 1 até -10 de 1 em 1\n",
            "1 0 -1 -2 -3 -4 -5 -6 -7 -8 -9 -10 FIM!\n"
          ],
          "name": "stdout"
        }
      ]
    },
    {
      "cell_type": "code",
      "metadata": {
        "colab": {
          "base_uri": "https://localhost:8080/"
        },
        "id": "f4D4HM9orkI5",
        "outputId": "e8dc2fa3-a45a-40fe-db77-0ff5eafe2e3e"
      },
      "source": [
        "x = 1\n",
        "resul = 0\n",
        "tabuada = int(input(\"tabuada: \"))\n",
        "while x <= 10:\n",
        "    resul = tabuada * x\n",
        "    print(f\"{tabuada} x {x} = {resul}\")\n",
        "    x+=1\n",
        "\n",
        "    \n",
        "\n"
      ],
      "execution_count": null,
      "outputs": [
        {
          "output_type": "stream",
          "text": [
            "tabuada: 10\n",
            "10 x 1 = 10\n",
            "10 x 2 = 20\n",
            "10 x 3 = 30\n",
            "10 x 4 = 40\n",
            "10 x 5 = 50\n",
            "10 x 6 = 60\n",
            "10 x 7 = 70\n",
            "10 x 8 = 80\n",
            "10 x 9 = 90\n",
            "10 x 10 = 100\n"
          ],
          "name": "stdout"
        }
      ]
    }
  ]
}